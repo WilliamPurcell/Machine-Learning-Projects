{
  "cells": [
    {
      "cell_type": "markdown",
      "metadata": {
        "id": "view-in-github",
        "colab_type": "text"
      },
      "source": [
        "<a href=\"https://colab.research.google.com/github/WilliamPurcell/Machine-Learning-Projects/blob/main/Health_costs_estimator_using_regression.ipynb\" target=\"_parent\"><img src=\"https://colab.research.google.com/assets/colab-badge.svg\" alt=\"Open In Colab\"/></a>"
      ]
    },
    {
      "cell_type": "code",
      "execution_count": null,
      "metadata": {
        "id": "1rRo8oNqZ-Rj"
      },
      "outputs": [],
      "source": [
        "#William Purcell\n",
        "#Predict healthcare costs using a regression algorithm.\n",
        "\n",
        "# Import libraries. You may or may not use all of these.\n",
        "!pip install -q git+https://github.com/tensorflow/docs\n",
        "import matplotlib.pyplot as plt\n",
        "import numpy as np\n",
        "import pandas as pd\n",
        "import math\n",
        "\n",
        "try:\n",
        "  # %tensorflow_version only exists in Colab.\n",
        "  %tensorflow_version 2.x\n",
        "except Exception:\n",
        "  pass\n",
        "import tensorflow as tf\n",
        "\n",
        "from tensorflow import keras\n",
        "from tensorflow.keras import layers\n",
        "from sklearn.preprocessing import LabelEncoder\n",
        "from sklearn.linear_model import LinearRegression\n",
        "from sklearn.metrics import mean_absolute_error\n",
        "from sklearn.ensemble import GradientBoostingRegressor\n",
        "\n",
        "import tensorflow_docs as tfdocs\n",
        "import tensorflow_docs.plots\n",
        "import tensorflow_docs.modeling\n",
        "\n"
      ]
    },
    {
      "cell_type": "code",
      "execution_count": null,
      "metadata": {
        "id": "CiX2FI4gZtTt"
      },
      "outputs": [],
      "source": [
        "# Import data\n",
        "!wget https://cdn.freecodecamp.org/project-data/health-costs/insurance.csv\n",
        "dataset = pd.read_csv('insurance.csv')\n",
        "dataset.tail()\n"
      ]
    },
    {
      "cell_type": "code",
      "execution_count": null,
      "metadata": {
        "id": "LcopvQh3X-kX"
      },
      "outputs": [],
      "source": [
        "#Convert categorical data to numbers.\n",
        "columns_to_encode = ['sex', 'smoker', 'region']\n",
        "dataset[columns_to_encode] = dataset[columns_to_encode].apply(LabelEncoder().fit_transform)\n",
        "\n",
        "#Use 80% of the data as the train_dataset and 20% of the data as the test_dataset.\n",
        "train_dataset= dataset [0:round(.8*len(dataset))]\n",
        "test_dataset= dataset  [round(.8*len(dataset)):]\n",
        "\n",
        "#Check the lengths of each set\n",
        "print( len(train_dataset))\n",
        "print( len(test_dataset))\n",
        "#Check all collumns are numerical\n",
        "dataset.tail()"
      ]
    },
    {
      "cell_type": "code",
      "source": [
        "#pop off the \"expenses\" column from these datasets to create new datasets,train_labels and test_labels/\n",
        "#Use these labels when training your model.\n",
        "train_labels = train_dataset.pop('expenses')\n",
        "test_labels = test_dataset.pop('expenses')\n",
        "\n",
        "# Check if 'expenses' column is removed from train_dataset and test_dataset\n",
        "print(train_dataset.columns)  # Should not contain 'expenses'\n",
        "print(test_dataset.columns)   # Should not contain 'expenses'\n"
      ],
      "metadata": {
        "id": "QJ5RV2CBtnuE"
      },
      "execution_count": null,
      "outputs": []
    },
    {
      "cell_type": "code",
      "source": [
        "#Create a model and train it with the train_dataset.\n",
        "\n",
        "# Create a Regression model\n",
        "model = GradientBoostingRegressor(n_estimators=100, learning_rate=0.1, max_depth=5, random_state=42)\n",
        "\n",
        "# Train the model with train_dataset and train_labels\n",
        "model.fit(train_dataset, train_labels)\n",
        "\n",
        "# Evaluate the model on test_dataset\n",
        "test_predictions = model.predict(test_dataset)\n",
        "mae = mean_absolute_error(test_labels, test_predictions)\n",
        "\n",
        "print(\"Testing set Mean Abs Error: ${:,.2f}\".format(mae))\n"
      ],
      "metadata": {
        "id": "ORaBM8mPt3tt"
      },
      "execution_count": null,
      "outputs": []
    },
    {
      "cell_type": "code",
      "execution_count": null,
      "metadata": {
        "id": "Xe7RXH3N3CWU"
      },
      "outputs": [],
      "source": [
        "# Test model by checking how well the model generalizes using the test set.\n",
        "mae = mean_absolute_error(test_labels, test_predictions)\n",
        "print(\"Testing set Mean Abs Error: {:5.2f} expenses\".format(mae))\n",
        "\n",
        "if mae < 3500:\n",
        "  print(\"You passed the challenge. Great job!\")\n",
        "else:\n",
        "  print(\"The Mean Abs Error must be less than 3500. Keep trying.\")\n",
        "\n",
        "# Plot predictions.\n",
        "test_predictions = model.predict(test_dataset).flatten()\n",
        "\n",
        "a = plt.axes(aspect='equal')\n",
        "plt.scatter(test_labels, test_predictions)\n",
        "plt.xlabel('True values (expenses)')\n",
        "plt.ylabel('Predictions (expenses)')\n",
        "lims = [0, 50000]\n",
        "plt.xlim(lims)\n",
        "plt.ylim(lims)\n",
        "_ = plt.plot(lims,lims)\n"
      ]
    }
  ],
  "metadata": {
    "colab": {
      "private_outputs": true,
      "provenance": [],
      "toc_visible": true,
      "include_colab_link": true
    },
    "kernelspec": {
      "display_name": "Python 3",
      "name": "python3"
    }
  },
  "nbformat": 4,
  "nbformat_minor": 0
}